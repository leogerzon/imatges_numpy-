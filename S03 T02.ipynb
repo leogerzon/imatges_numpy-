{
 "cells": [
  {
   "cell_type": "markdown",
   "id": "88207341-e9c0-418a-af3e-34d723b27b2a",
   "metadata": {},
   "source": [
    "# S03 T02: Estructura d'una Matriu"
   ]
  },
  {
   "cell_type": "markdown",
   "id": "3b768331-a854-44b7-86cb-7c739a22ddf5",
   "metadata": {},
   "source": [
    "## Nivell 1"
   ]
  },
  {
   "cell_type": "markdown",
   "id": "38690512-cbc1-4891-b58a-42cf1dd014f7",
   "metadata": {},
   "source": [
    "Treballem els conceptes de l'estructura d'una matriu, dimensió, eixos i la vectorització que ens permet reduir l'ús de for loops en operacions aritmètiques o matemàtiques."
   ]
  },
  {
   "cell_type": "markdown",
   "id": "aa9d4420-e3d3-42c1-b944-b44a7f2c87d2",
   "metadata": {},
   "source": [
    "### Exercici 1"
   ]
  },
  {
   "cell_type": "markdown",
   "id": "3d80cac9-f355-4174-9bc1-224e76842764",
   "metadata": {},
   "source": [
    "Crea un np.array d'una dimensió, que inclogui l'almenys 8 nombres sencers, data type int64. Mostra la dimensió i la forma de la matriu."
   ]
  },
  {
   "cell_type": "code",
   "execution_count": 78,
   "id": "e72ab762-5f0e-42d2-8fa8-7810497f231b",
   "metadata": {},
   "outputs": [
    {
     "name": "stdout",
     "output_type": "stream",
     "text": [
      "[ 1 20 18 22 15 19  3 12]\n"
     ]
    }
   ],
   "source": [
    "import numpy as np\n",
    "arr = np.array([1, 20, 18, 22, 15, 19, 3, 12], dtype=\"int64\")\n",
    "print(arr)"
   ]
  },
  {
   "cell_type": "code",
   "execution_count": 79,
   "id": "5337c162-2edc-4eab-a06c-b843a9229fe5",
   "metadata": {},
   "outputs": [
    {
     "name": "stdout",
     "output_type": "stream",
     "text": [
      "1\n"
     ]
    }
   ],
   "source": [
    "print(arr.ndim)"
   ]
  },
  {
   "cell_type": "markdown",
   "id": "3f76a81d-1048-421a-9e88-650923caa218",
   "metadata": {},
   "source": [
    "La dimensió de la matriu es 1"
   ]
  },
  {
   "cell_type": "code",
   "execution_count": 80,
   "id": "0d715da6-e1d9-486f-a776-03b3aca5c855",
   "metadata": {},
   "outputs": [
    {
     "name": "stdout",
     "output_type": "stream",
     "text": [
      "int64\n"
     ]
    }
   ],
   "source": [
    "print(arr.dtype)"
   ]
  },
  {
   "cell_type": "markdown",
   "id": "e3ed42c0-b68e-4913-8727-b954f59f88d2",
   "metadata": {},
   "source": [
    "La forma de la matriu es int64"
   ]
  },
  {
   "cell_type": "markdown",
   "id": "4f8262b8-cf20-40f7-8945-002b161bc191",
   "metadata": {},
   "source": [
    "### Exercici 2"
   ]
  },
  {
   "cell_type": "markdown",
   "id": "8df00bd6-30d6-476d-afb5-f3d6aee427c4",
   "metadata": {},
   "source": [
    "De la matriu de l'exercici 1, calcula el valor mitjà dels valors introduïts i resta la mitjana resultant de cada un dels valors de la matriu."
   ]
  },
  {
   "cell_type": "code",
   "execution_count": 81,
   "id": "932c80fb-707e-4ae8-8d4f-e831db39660c",
   "metadata": {},
   "outputs": [
    {
     "name": "stdout",
     "output_type": "stream",
     "text": [
      "13.75\n"
     ]
    }
   ],
   "source": [
    "import pandas as pd\n",
    "import statistics\n",
    "mitjà = arr.mean()\n",
    "print(mitjà)"
   ]
  },
  {
   "cell_type": "markdown",
   "id": "8bb62271-4147-496f-a3ed-0922628fcbd8",
   "metadata": {},
   "source": [
    "El valor mitjà de la matriu es 13.75"
   ]
  },
  {
   "cell_type": "code",
   "execution_count": 82,
   "id": "31d036a3-374b-473e-a88e-d0be3e0b61b9",
   "metadata": {},
   "outputs": [
    {
     "name": "stdout",
     "output_type": "stream",
     "text": [
      "16.5\n"
     ]
    }
   ],
   "source": [
    "print(statistics.median(arr))"
   ]
  },
  {
   "cell_type": "markdown",
   "id": "ea4d34b2-b75b-416b-80ce-2b6a362e2a04",
   "metadata": {},
   "source": [
    "La mitjana de la matriu es 16.5"
   ]
  },
  {
   "cell_type": "code",
   "execution_count": 84,
   "id": "8f2bcab6-5f6f-473a-81c1-b3fff71357cd",
   "metadata": {},
   "outputs": [
    {
     "name": "stdout",
     "output_type": "stream",
     "text": [
      "-15.5\n",
      "3.5\n",
      "1.5\n",
      "5.5\n",
      "-1.5\n",
      "2.5\n",
      "-13.5\n",
      "-4.5\n"
     ]
    }
   ],
   "source": [
    "for x in arr:\n",
    "  print(x-16.5)"
   ]
  },
  {
   "cell_type": "markdown",
   "id": "d4fa92d5-1044-437a-99e2-3eff9f54fd4f",
   "metadata": {},
   "source": [
    "### Exercici 3"
   ]
  },
  {
   "cell_type": "markdown",
   "id": "1dd04035-873a-45aa-92c6-78b51adfeabb",
   "metadata": {},
   "source": [
    "Crea una matriu bidimensional amb una forma de 5 x 5. Extreu el valor màxim de la matriu, i els valors màxims de cadascun dels seus eixos."
   ]
  },
  {
   "cell_type": "code",
   "execution_count": 85,
   "id": "be06249c-6665-4fde-a009-7ee34e2dc6b1",
   "metadata": {},
   "outputs": [
    {
     "name": "stdout",
     "output_type": "stream",
     "text": [
      "[[ 1  2  3  4  5]\n",
      " [ 6  7  8  9 10]\n",
      " [11 12 13 14 15]\n",
      " [16 17 18 19 20]\n",
      " [26 27 28 29 30]]\n"
     ]
    }
   ],
   "source": [
    "arr2 = np.array([[1, 2, 3, 4, 5], [6, 7, 8, 9, 10], [11, 12, 13, 14, 15], [16, 17, 18, 19, 20], [26, 27, 28, 29, 30]])\n",
    "print(arr2)"
   ]
  },
  {
   "cell_type": "code",
   "execution_count": 86,
   "id": "e9c2c5a5-3133-409c-b242-979fa9d7dc8b",
   "metadata": {},
   "outputs": [
    {
     "data": {
      "text/plain": [
       "30"
      ]
     },
     "execution_count": 86,
     "metadata": {},
     "output_type": "execute_result"
    }
   ],
   "source": [
    "np.amax(arr2)"
   ]
  },
  {
   "cell_type": "markdown",
   "id": "b6e57038-c264-40f8-a624-d9794b8266f0",
   "metadata": {},
   "source": [
    " El valor màxim de la matriu es 30"
   ]
  },
  {
   "cell_type": "code",
   "execution_count": 87,
   "id": "f93250fe-8798-47cc-b2a1-ebaed63d99ae",
   "metadata": {},
   "outputs": [
    {
     "data": {
      "text/plain": [
       "array([26, 27, 28, 29, 30])"
      ]
     },
     "execution_count": 87,
     "metadata": {},
     "output_type": "execute_result"
    }
   ],
   "source": [
    "np.amax(arr2, axis = 0)"
   ]
  },
  {
   "cell_type": "markdown",
   "id": "8773b68b-7c44-4c47-b80c-44787c49045e",
   "metadata": {},
   "source": [
    "Els valors màxims dels eixos verticals són 26, 27, 28, 29 y 30"
   ]
  },
  {
   "cell_type": "code",
   "execution_count": 88,
   "id": "3c7800ee-d23e-4362-bc3e-1814b7f19f97",
   "metadata": {},
   "outputs": [
    {
     "data": {
      "text/plain": [
       "array([ 5, 10, 15, 20, 30])"
      ]
     },
     "execution_count": 88,
     "metadata": {},
     "output_type": "execute_result"
    }
   ],
   "source": [
    "np.amax(arr2, axis = 1)"
   ]
  },
  {
   "cell_type": "markdown",
   "id": "2af05595-ce6a-4b75-829c-236fcbaa7c3e",
   "metadata": {},
   "source": [
    "Els valors màxims dels eixos horizontals són 5, 10, 15, 20 y 30"
   ]
  },
  {
   "cell_type": "markdown",
   "id": "b07484ca-766e-43a9-a0df-fd85cc536920",
   "metadata": {},
   "source": [
    "## Nivell 2"
   ]
  },
  {
   "cell_type": "markdown",
   "id": "9a1f1ee8-82be-42a8-8c4d-1101189f6e60",
   "metadata": {},
   "source": [
    "Treballem els conceptes de l'estructura d'una matriu, Broadcasting, indexació, Mask."
   ]
  },
  {
   "cell_type": "markdown",
   "id": "2ca1016a-7776-4139-b402-f056b4378900",
   "metadata": {},
   "source": [
    "### Exercici 4"
   ]
  },
  {
   "cell_type": "markdown",
   "id": "80a8dc42-6baf-4e8a-9a6f-0b649b593712",
   "metadata": {},
   "source": [
    "Mostreu-me amb exemples de diferents matrius, la regla fonamental de Broadcasting que diu : \"les matrius es poden transmetre / broadcast si les seves dimensions coincideixen o si una de les matrius té una mida d'1\"."
   ]
  },
  {
   "cell_type": "markdown",
   "id": "d6736d9c-6644-4cb1-9380-996c0d2f1419",
   "metadata": {},
   "source": [
    "*Exemple 1*"
   ]
  },
  {
   "cell_type": "code",
   "execution_count": 13,
   "id": "4780f179-0923-4722-b99c-eae609692508",
   "metadata": {},
   "outputs": [
    {
     "data": {
      "text/plain": [
       "array([[ 1.,  2.,  3.],\n",
       "       [11., 12., 13.],\n",
       "       [21., 22., 23.],\n",
       "       [31., 32., 33.]])"
      ]
     },
     "execution_count": 13,
     "metadata": {},
     "output_type": "execute_result"
    }
   ],
   "source": [
    "from numpy import array\n",
    "a = array([[ 0.0,  0.0,  0.0],\n",
    "           [10.0, 10.0, 10.0],\n",
    "           [20.0, 20.0, 20.0],\n",
    "           [30.0, 30.0, 30.0]])\n",
    "b = array([1.0, 2.0, 3.0])\n",
    "a + b"
   ]
  },
  {
   "cell_type": "markdown",
   "id": "334e9cb1-f310-4851-9e60-8ab92e6ec459",
   "metadata": {},
   "source": [
    "Exemple 2"
   ]
  },
  {
   "cell_type": "code",
   "execution_count": 72,
   "id": "f7d2ca6e-64c0-4c66-a983-77329113fe28",
   "metadata": {},
   "outputs": [
    {
     "data": {
      "text/plain": [
       "array([[ 30.,  49.,  72.,  99.],\n",
       "       [ 60.,  98., 144., 198.],\n",
       "       [120., 196., 288., 396.],\n",
       "       [240., 392., 576., 792.]])"
      ]
     },
     "execution_count": 72,
     "metadata": {},
     "output_type": "execute_result"
    }
   ],
   "source": [
    "a = array([[ 5.0,  7.0,  9.0, 11.0],\n",
    "           [10.0, 14.0, 18.0, 22.0],\n",
    "           [20.0, 28.0, 36.0, 44.0],\n",
    "           [40.0, 56.0, 72.0, 88.0]])\n",
    "b = array([6.0, 7.0, 8.0, 9.0])\n",
    "a * b"
   ]
  },
  {
   "cell_type": "markdown",
   "id": "a61aee9e-2327-4baf-8319-270fdc2ec238",
   "metadata": {},
   "source": [
    "Exemple 3"
   ]
  },
  {
   "cell_type": "code",
   "execution_count": 73,
   "id": "4ce7d0ab-2eb3-4a02-88be-90475dc55a09",
   "metadata": {},
   "outputs": [
    {
     "data": {
      "text/plain": [
       "array([[11., 14., 17., 20.],\n",
       "       [16., 21., 26., 31.],\n",
       "       [26., 35., 44., 53.],\n",
       "       [46., 63., 80., 97.]])"
      ]
     },
     "execution_count": 73,
     "metadata": {},
     "output_type": "execute_result"
    }
   ],
   "source": [
    "a = array([[ 5.0,  7.0,  9.0, 11.0],\n",
    "           [10.0, 14.0, 18.0, 22.0],\n",
    "           [20.0, 28.0, 36.0, 44.0],\n",
    "           [40.0, 56.0, 72.0, 88.0]])\n",
    "b = array([[6.0, 7.0, 8.0, 9.0],\n",
    "          [6.0, 7.0, 8.0, 9.0],\n",
    "          [6.0, 7.0, 8.0, 9.0],\n",
    "          [6.0, 7.0, 8.0, 9.0]])\n",
    "a + b"
   ]
  },
  {
   "cell_type": "markdown",
   "id": "a2953414-1545-46ed-9e34-b5305645c8c0",
   "metadata": {},
   "source": [
    "Exemple 4 (con error)"
   ]
  },
  {
   "cell_type": "code",
   "execution_count": 74,
   "id": "3eb71804-9317-4b12-b804-5ff11937b489",
   "metadata": {},
   "outputs": [
    {
     "ename": "ValueError",
     "evalue": "operands could not be broadcast together with shapes (4,5) (4,4) ",
     "output_type": "error",
     "traceback": [
      "\u001b[0;31m---------------------------------------------------------------------------\u001b[0m",
      "\u001b[0;31mValueError\u001b[0m                                Traceback (most recent call last)",
      "\u001b[0;32m<ipython-input-74-8454e0d3d930>\u001b[0m in \u001b[0;36m<module>\u001b[0;34m\u001b[0m\n\u001b[1;32m      7\u001b[0m           \u001b[0;34m[\u001b[0m\u001b[0;36m6.0\u001b[0m\u001b[0;34m,\u001b[0m \u001b[0;36m7.0\u001b[0m\u001b[0;34m,\u001b[0m \u001b[0;36m8.0\u001b[0m\u001b[0;34m,\u001b[0m \u001b[0;36m9.0\u001b[0m\u001b[0;34m]\u001b[0m\u001b[0;34m,\u001b[0m\u001b[0;34m\u001b[0m\u001b[0;34m\u001b[0m\u001b[0m\n\u001b[1;32m      8\u001b[0m           [6.0, 7.0, 8.0, 9.0]])\n\u001b[0;32m----> 9\u001b[0;31m \u001b[0ma\u001b[0m \u001b[0;34m+\u001b[0m \u001b[0mb\u001b[0m\u001b[0;34m\u001b[0m\u001b[0;34m\u001b[0m\u001b[0m\n\u001b[0m",
      "\u001b[0;31mValueError\u001b[0m: operands could not be broadcast together with shapes (4,5) (4,4) "
     ]
    }
   ],
   "source": [
    "a = array([[ 5.0,  7.0,  9.0, 11.0, 13.0],\n",
    "           [10.0, 14.0, 18.0, 22.0, 26.0],\n",
    "           [20.0, 28.0, 36.0, 44.0, 52.0],\n",
    "           [40.0, 56.0, 72.0, 88.0, 104.0]])\n",
    "b = array([[6.0, 7.0, 8.0, 9.0],\n",
    "          [6.0, 7.0, 8.0, 9.0],\n",
    "          [6.0, 7.0, 8.0, 9.0],\n",
    "          [6.0, 7.0, 8.0, 9.0]])\n",
    "a + b"
   ]
  },
  {
   "cell_type": "markdown",
   "id": "20510456-ac5a-4fe2-bb24-8a4a6887f7f1",
   "metadata": {},
   "source": [
    "### Exercici 5"
   ]
  },
  {
   "cell_type": "markdown",
   "id": "c7c08d6d-2560-4294-b36b-1396be86aee9",
   "metadata": {},
   "source": [
    "Utilitza la Indexació per extreure els valors d'una columna i una fila de la matriu. I suma els seus valors."
   ]
  },
  {
   "cell_type": "code",
   "execution_count": 89,
   "id": "ac31b13a-5bfe-403f-8881-bd82a968fbe6",
   "metadata": {},
   "outputs": [
    {
     "name": "stdout",
     "output_type": "stream",
     "text": [
      "[[ 1  2  3  4  5]\n",
      " [ 6  7  8  9 10]\n",
      " [11 12 13 14 15]\n",
      " [16 17 18 19 20]\n",
      " [26 27 28 29 30]]\n"
     ]
    }
   ],
   "source": [
    "arr3 = np.array([[1, 2, 3, 4, 5], [6, 7, 8, 9, 10], [11, 12, 13, 14, 15], [16, 17, 18, 19, 20], [26, 27, 28, 29, 30]])\n",
    "print(arr3)"
   ]
  },
  {
   "cell_type": "code",
   "execution_count": 90,
   "id": "68849b39-5d08-4dfd-b239-6b4e6e1f2bf1",
   "metadata": {},
   "outputs": [
    {
     "name": "stdout",
     "output_type": "stream",
     "text": [
      "40\n"
     ]
    }
   ],
   "source": [
    "horizontal = ((arr3[1, 0])+(arr3[1, 1])+(arr3[1, 2])+(arr3[1, 3])+(arr3[1, 4]))\n",
    "print(horizontal)"
   ]
  },
  {
   "cell_type": "code",
   "execution_count": 91,
   "id": "3e34de46-6275-4054-bc76-0dbb912b705a",
   "metadata": {},
   "outputs": [
    {
     "name": "stdout",
     "output_type": "stream",
     "text": [
      "60\n"
     ]
    }
   ],
   "source": [
    "vertical = ((arr3[0, 0])+(arr3[1, 0])+(arr3[2, 0])+(arr3[3, 0])+(arr3[4, 0]))\n",
    "print(vertical)"
   ]
  },
  {
   "cell_type": "code",
   "execution_count": 92,
   "id": "1b5dcb38-c343-4801-b18b-4634450e4ebf",
   "metadata": {},
   "outputs": [
    {
     "name": "stdout",
     "output_type": "stream",
     "text": [
      "100\n"
     ]
    }
   ],
   "source": [
    "sumatotal = horizontal+vertical\n",
    "print(sumatotal)"
   ]
  },
  {
   "cell_type": "markdown",
   "id": "9ccd6dd3-99cb-4361-80b5-5883699d956c",
   "metadata": {},
   "source": [
    "### Exercici 6"
   ]
  },
  {
   "cell_type": "markdown",
   "id": "d2c3d28a-bae9-442f-92ea-3fe840035f5b",
   "metadata": {},
   "source": [
    "Mask la matriu anterior, realitzeu un càlcul booleà vectoritzat, agafant cada element i comprovant si es divideix uniformement per quatre.\n",
    "Això retorna una matriu de mask de la mateixa forma amb els resultats elementals del càlcul."
   ]
  },
  {
   "cell_type": "code",
   "execution_count": 67,
   "id": "a49d3057-a545-4f87-a712-97bd15bfc2fd",
   "metadata": {},
   "outputs": [
    {
     "name": "stdout",
     "output_type": "stream",
     "text": [
      "[[False False False  True False]\n",
      " [False False  True False False]\n",
      " [False  True False False False]\n",
      " [ True False False False  True]\n",
      " [False False  True False False]]\n"
     ]
    }
   ],
   "source": [
    "import numpy.ma as ma\n",
    "ma_arr = ma.masked_array(arr % 4 == 0)\n",
    "print(ma_arr)"
   ]
  },
  {
   "cell_type": "markdown",
   "id": "6cecbf53-f33b-4d4d-870c-8cbe7d57898e",
   "metadata": {},
   "source": [
    "### Exercici 7"
   ]
  },
  {
   "cell_type": "markdown",
   "id": "5ae51d63-8e91-42d8-a452-d0d84d0d173b",
   "metadata": {},
   "source": [
    "A continuació, utilitzeu aquesta màscara per indexar a la matriu de números original. Això fa que la matriu perdi la seva forma original, reduint-la a una dimensió, però encara obteniu les dades que esteu cercant."
   ]
  },
  {
   "cell_type": "code",
   "execution_count": 71,
   "id": "d5f43741-d0d5-4cc4-b815-64e0a4840eb4",
   "metadata": {},
   "outputs": [
    {
     "data": {
      "text/plain": [
       "array([ 4,  8, 12, 16, 20, 28])"
      ]
     },
     "execution_count": 71,
     "metadata": {},
     "output_type": "execute_result"
    }
   ],
   "source": [
    "arr[ma_arr]"
   ]
  }
 ],
 "metadata": {
  "kernelspec": {
   "display_name": "Python 3",
   "language": "python",
   "name": "python3"
  },
  "language_info": {
   "codemirror_mode": {
    "name": "ipython",
    "version": 3
   },
   "file_extension": ".py",
   "mimetype": "text/x-python",
   "name": "python",
   "nbconvert_exporter": "python",
   "pygments_lexer": "ipython3",
   "version": "3.8.8"
  }
 },
 "nbformat": 4,
 "nbformat_minor": 5
}
